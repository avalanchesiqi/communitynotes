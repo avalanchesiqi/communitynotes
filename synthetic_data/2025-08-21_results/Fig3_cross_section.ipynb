{
    "cells": [
        {
            "cell_type": "code",
            "execution_count": 24,
            "metadata": {},
            "outputs": [],
            "source": [
                "import pandas as pd\n",
                "import matplotlib.pyplot as plt\n",
                "import numpy as np\n",
                "import statsmodels.stats.api as sms\n",
                "import os\n",
                "import json\n",
                "\n",
                "# options to make text editable in illustrator\n",
                "plt.style.use(\"stylesheet.mplstyle\")\n",
                "plt.rcParams[\"pdf.fonttype\"] = 42\n",
                "plt.rcParams[\"ps.fonttype\"] = 42"
            ]
        },
        {
            "cell_type": "code",
            "execution_count": 25,
            "metadata": {},
            "outputs": [],
            "source": [
                "# Function to calculate confidence intervals\n",
                "def get_ci(a):\n",
                "    return sms.DescrStatsW(a).tconfint_mean()\n",
                "\n",
                "\n",
                "# homophily in the original data is from 0 to 0.9. We need to rescale so homophily is between -1 and 1,\n",
                "def rescale(values):\n",
                "    return values * 2 - 1"
            ]
        },
        {
            "cell_type": "markdown",
            "metadata": {},
            "source": [
                "## Define subplot names and metric names"
            ]
        },
        {
            "cell_type": "code",
            "execution_count": 26,
            "metadata": {},
            "outputs": [],
            "source": [
                "# import metrics, metric_names, and exp_to_y_ax_labels from a global definition\n",
                "metrics = json.load(open(\"definitions.json\"))[\"metrics\"]\n",
                "metric_names = json.load(open(\"definitions.json\"))[\"metric_names\"]\n",
                "exp_to_y_ax_labels = json.load(open(\"definitions.json\"))[\"exp_to_y_axis_names\"]\n",
                "ax_labels = json.load(open(\"definitions.json\"))[\"ax_labels\"]\n",
                "conditions = json.load(open(\"definitions.json\"))[\"conditions\"]\n",
                "condition_names = json.load(open(\"definitions.json\"))[\"condition_names\"]"
            ]
        },
        {
            "cell_type": "markdown",
            "metadata": {},
            "source": [
                "## Read suppression data"
            ]
        },
        {
            "cell_type": "markdown",
            "metadata": {},
            "source": [
                "### take a look to make sure everything looks correct"
            ]
        },
        {
            "cell_type": "code",
            "execution_count": 27,
            "metadata": {},
            "outputs": [
                {
                    "name": "stdout",
                    "output_type": "stream",
                    "text": [
                        "Data shape: (7360, 15)\n"
                    ]
                },
                {
                    "data": {
                        "text/html": [
                            "<div>\n",
                            "<style scoped>\n",
                            "    .dataframe tbody tr th:only-of-type {\n",
                            "        vertical-align: middle;\n",
                            "    }\n",
                            "\n",
                            "    .dataframe tbody tr th {\n",
                            "        vertical-align: top;\n",
                            "    }\n",
                            "\n",
                            "    .dataframe thead th {\n",
                            "        text-align: right;\n",
                            "    }\n",
                            "</style>\n",
                            "<table border=\"1\" class=\"dataframe\">\n",
                            "  <thead>\n",
                            "    <tr style=\"text-align: right;\">\n",
                            "      <th></th>\n",
                            "      <th>params</th>\n",
                            "      <th>run_result_dir</th>\n",
                            "      <th>n_H</th>\n",
                            "      <th>n_U</th>\n",
                            "      <th>n_h</th>\n",
                            "      <th>n_u</th>\n",
                            "      <th>p_u_H</th>\n",
                            "      <th>p_h_U</th>\n",
                            "      <th>p_H_u</th>\n",
                            "      <th>p_U_h</th>\n",
                            "      <th>condition</th>\n",
                            "      <th>n_uH</th>\n",
                            "      <th>n_hU</th>\n",
                            "      <th>no_run</th>\n",
                            "      <th>st_prop</th>\n",
                            "    </tr>\n",
                            "  </thead>\n",
                            "  <tbody>\n",
                            "    <tr>\n",
                            "      <th>0</th>\n",
                            "      <td>1-r_fun-0.000000</td>\n",
                            "      <td>/N/project/community_notes_manip/communitynote...</td>\n",
                            "      <td>2019</td>\n",
                            "      <td>7984</td>\n",
                            "      <td>2599</td>\n",
                            "      <td>7404</td>\n",
                            "      <td>0.288262</td>\n",
                            "      <td>0.447095</td>\n",
                            "      <td>0.078606</td>\n",
                            "      <td>0.145541</td>\n",
                            "      <td>fn&gt;=0</td>\n",
                            "      <td>582.0</td>\n",
                            "      <td>1162.0</td>\n",
                            "      <td>1.0</td>\n",
                            "      <td>0.0</td>\n",
                            "    </tr>\n",
                            "    <tr>\n",
                            "      <th>1</th>\n",
                            "      <td>1-r_fun-0.000000</td>\n",
                            "      <td>/N/project/community_notes_manip/communitynote...</td>\n",
                            "      <td>4272</td>\n",
                            "      <td>15728</td>\n",
                            "      <td>5198</td>\n",
                            "      <td>14802</td>\n",
                            "      <td>0.322331</td>\n",
                            "      <td>0.443055</td>\n",
                            "      <td>0.093028</td>\n",
                            "      <td>0.146427</td>\n",
                            "      <td>all</td>\n",
                            "      <td>1377.0</td>\n",
                            "      <td>2303.0</td>\n",
                            "      <td>1.0</td>\n",
                            "      <td>0.0</td>\n",
                            "    </tr>\n",
                            "    <tr>\n",
                            "      <th>2</th>\n",
                            "      <td>1-r_fun-0.000000</td>\n",
                            "      <td>/N/project/community_notes_manip/communitynote...</td>\n",
                            "      <td>3565</td>\n",
                            "      <td>9034</td>\n",
                            "      <td>4793</td>\n",
                            "      <td>7806</td>\n",
                            "      <td>0.244320</td>\n",
                            "      <td>0.437930</td>\n",
                            "      <td>0.111581</td>\n",
                            "      <td>0.232344</td>\n",
                            "      <td>fn&lt;0_inferred</td>\n",
                            "      <td>871.0</td>\n",
                            "      <td>2099.0</td>\n",
                            "      <td>1.0</td>\n",
                            "      <td>0.0</td>\n",
                            "    </tr>\n",
                            "    <tr>\n",
                            "      <th>3</th>\n",
                            "      <td>1-r_fun-0.000000</td>\n",
                            "      <td>/N/project/community_notes_manip/communitynote...</td>\n",
                            "      <td>707</td>\n",
                            "      <td>6694</td>\n",
                            "      <td>405</td>\n",
                            "      <td>6996</td>\n",
                            "      <td>0.715700</td>\n",
                            "      <td>0.503704</td>\n",
                            "      <td>0.072327</td>\n",
                            "      <td>0.030475</td>\n",
                            "      <td>fn&gt;=0_inferred</td>\n",
                            "      <td>506.0</td>\n",
                            "      <td>204.0</td>\n",
                            "      <td>1.0</td>\n",
                            "      <td>0.0</td>\n",
                            "    </tr>\n",
                            "    <tr>\n",
                            "      <th>4</th>\n",
                            "      <td>1-r_fun-0.000000</td>\n",
                            "      <td>/N/project/community_notes_manip/communitynote...</td>\n",
                            "      <td>2253</td>\n",
                            "      <td>7744</td>\n",
                            "      <td>2599</td>\n",
                            "      <td>7398</td>\n",
                            "      <td>0.352863</td>\n",
                            "      <td>0.439015</td>\n",
                            "      <td>0.107461</td>\n",
                            "      <td>0.147340</td>\n",
                            "      <td>fn&lt;0</td>\n",
                            "      <td>795.0</td>\n",
                            "      <td>1141.0</td>\n",
                            "      <td>1.0</td>\n",
                            "      <td>0.0</td>\n",
                            "    </tr>\n",
                            "  </tbody>\n",
                            "</table>\n",
                            "</div>"
                        ],
                        "text/plain": [
                            "             params                                     run_result_dir   n_H  \\\n",
                            "0  1-r_fun-0.000000  /N/project/community_notes_manip/communitynote...  2019   \n",
                            "1  1-r_fun-0.000000  /N/project/community_notes_manip/communitynote...  4272   \n",
                            "2  1-r_fun-0.000000  /N/project/community_notes_manip/communitynote...  3565   \n",
                            "3  1-r_fun-0.000000  /N/project/community_notes_manip/communitynote...   707   \n",
                            "4  1-r_fun-0.000000  /N/project/community_notes_manip/communitynote...  2253   \n",
                            "\n",
                            "     n_U   n_h    n_u     p_u_H     p_h_U     p_H_u     p_U_h       condition  \\\n",
                            "0   7984  2599   7404  0.288262  0.447095  0.078606  0.145541           fn>=0   \n",
                            "1  15728  5198  14802  0.322331  0.443055  0.093028  0.146427             all   \n",
                            "2   9034  4793   7806  0.244320  0.437930  0.111581  0.232344   fn<0_inferred   \n",
                            "3   6694   405   6996  0.715700  0.503704  0.072327  0.030475  fn>=0_inferred   \n",
                            "4   7744  2599   7398  0.352863  0.439015  0.107461  0.147340            fn<0   \n",
                            "\n",
                            "     n_uH    n_hU  no_run  st_prop  \n",
                            "0   582.0  1162.0     1.0      0.0  \n",
                            "1  1377.0  2303.0     1.0      0.0  \n",
                            "2   871.0  2099.0     1.0      0.0  \n",
                            "3   506.0   204.0     1.0      0.0  \n",
                            "4   795.0  1141.0     1.0      0.0  "
                        ]
                    },
                    "execution_count": 27,
                    "metadata": {},
                    "output_type": "execute_result"
                }
            ],
            "source": [
                "result_dir = \"multi_bad_actor_with_bias_bhvr_1\"\n",
                "helpfulness = \"helpfulness_True\"\n",
                "df = pd.read_csv(f\"{result_dir}/FP_count/{helpfulness}.csv\")\n",
                "print(\"Data shape:\", df.shape)\n",
                "df.head()"
            ]
        },
        {
            "cell_type": "code",
            "execution_count": 28,
            "metadata": {},
            "outputs": [
                {
                    "name": "stdout",
                    "output_type": "stream",
                    "text": [
                        " ** fn<0 **\n",
                        " shape (7360, 15)\n",
                        " shape after dropping duplicates (7360, 15)\n",
                        "  * Unique y values:  [0.0, 1.67, 3.33, 5.0, 6.67, 8.33, 10.0, 11.67, 13.33, 15.0, 16.67, 18.33, 20.0, 21.67, 23.33, 25.0]\n",
                        "    No. observations per y value: 92.0 pm 2.0\n",
                        "    Available columns: ['st_prop', 'no_observations', 'condition', 'p_h_U_mean', 'p_h_U_ci_lower', 'p_h_U_ci_upper', 'p_u_H_mean', 'p_u_H_ci_lower', 'p_u_H_ci_upper', 'p_H_u_mean', 'p_H_u_ci_lower', 'p_H_u_ci_upper', 'p_U_h_mean', 'p_U_h_ci_lower', 'p_U_h_ci_upper']\n",
                        "\n",
                        " ** fn>=0 **\n",
                        " shape (7360, 15)\n",
                        " shape after dropping duplicates (7360, 15)\n",
                        "  * Unique y values:  [0.0, 1.67, 3.33, 5.0, 6.67, 8.33, 10.0, 11.67, 13.33, 15.0, 16.67, 18.33, 20.0, 21.67, 23.33, 25.0]\n",
                        "    No. observations per y value: 92.0 pm 2.0\n",
                        "    Available columns: ['st_prop', 'no_observations', 'condition', 'p_h_U_mean', 'p_h_U_ci_lower', 'p_h_U_ci_upper', 'p_u_H_mean', 'p_u_H_ci_lower', 'p_u_H_ci_upper', 'p_H_u_mean', 'p_H_u_ci_lower', 'p_H_u_ci_upper', 'p_U_h_mean', 'p_U_h_ci_lower', 'p_U_h_ci_upper']\n",
                        "\n"
                    ]
                }
            ],
            "source": [
                "# Read & prepare data\n",
                "data = {}\n",
                "data_summary = {}\n",
                "df = pd.read_csv(f\"{result_dir}/FP_count/{helpfulness}.csv\")\n",
                "df[\"st_prop\"] = df[\"st_prop\"] * 100\n",
                "# df[\"st_prop\"] = pd.to_numeric(df[\"st_prop\"], errors=\"coerce\")\n",
                "# df[\"st_prop\"] = pd.to_numeric(df[\"st_prop\"], errors=\"coerce\")\n",
                "data[helpfulness] = df\n",
                "for condition in conditions:\n",
                "    print(f\" ** {condition} **\")\n",
                "    focal = df[df[\"condition\"] == condition].copy()\n",
                "    print(\" shape\", df.shape)\n",
                "    df = df.drop_duplicates(subset=[\"condition\", \"params\"])\n",
                "    print(\" shape after dropping duplicates\", df.shape)\n",
                "    # Group by y values, compute mean and CI for each metric\n",
                "    agg_funcs = {\"params\": (\"params\", \"count\")}\n",
                "    for m in metrics:\n",
                "        agg_funcs[\"condition\"] = (\"condition\", \"first\")\n",
                "        agg_funcs[m + \"_mean\"] = (m, \"mean\")\n",
                "        agg_funcs[m + \"_ci_lower\"] = (m, lambda x: get_ci(x.values)[0])\n",
                "        agg_funcs[m + \"_ci_upper\"] = (m, lambda x: get_ci(x.values)[1])\n",
                "\n",
                "    df_summary = focal.groupby(\"st_prop\").agg(**agg_funcs).reset_index()\n",
                "    df_summary = df_summary.rename(columns={\"params\": \"no_observations\"})\n",
                "    # Sanity check\n",
                "    print(\n",
                "        \"  * Unique y values: \",\n",
                "        [float(f\"{x:.2f}\") for x in df_summary[\"st_prop\"].unique()],\n",
                "    )\n",
                "    print(\n",
                "        f\"    No. observations per y value: {df_summary['no_observations'].describe()['mean']} pm {df_summary['no_observations'].describe()['std']}\"\n",
                "    )\n",
                "    print(f\"    Available columns: {df_summary.columns.tolist()}\\n\")\n",
                "    data_summary[f\"{helpfulness}_{condition}\"] = df_summary"
            ]
        },
        {
            "cell_type": "markdown",
            "metadata": {},
            "source": [
                "## Plot 2 panels (cross section fn<0 and fn>0)"
            ]
        },
        {
            "cell_type": "code",
            "execution_count": 29,
            "metadata": {},
            "outputs": [],
            "source": [
                "def format_integer_ticks(x, pos):\n",
                "    if round(x, 2) in (0, 1, -1):\n",
                "        return str(int(round(x)))\n",
                "    else:\n",
                "        return f\"{x:.1f}\""
            ]
        },
        {
            "cell_type": "code",
            "execution_count": 30,
            "metadata": {},
            "outputs": [
                {
                    "data": {
                        "text/plain": [
                            "dict_keys(['helpfulness_True_fn<0', 'helpfulness_True_fn>=0'])"
                        ]
                    },
                    "execution_count": 30,
                    "metadata": {},
                    "output_type": "execute_result"
                }
            ],
            "source": [
                "data_summary.keys()"
            ]
        },
        {
            "cell_type": "code",
            "execution_count": null,
            "metadata": {},
            "outputs": [
                {
                    "name": "stdout",
                    "output_type": "stream",
                    "text": [
                        "fn<0 - p_h_U - mean: 0.51991344829991\n",
                        "fn>=0 - p_h_U - mean: 0.5211243429429098\n",
                        "fn<0 - p_u_H - mean: 0.42528506403643607\n",
                        "fn>=0 - p_u_H - mean: 0.4243440481971002\n"
                    ]
                },
                {
                    "data": {
                        "image/png": "[encoded data removed]",
                        "text/plain": [
                            "<Figure size 1200x700 with 2 Axes>"
                        ]
                    },
                    "metadata": {},
                    "output_type": "display_data"
                }
            ],
            "source": [
                "FIG_NAME = \"Fig3.\"\n",
                "colors = {\n",
                "    \"fn<0\": \"blue\",\n",
                "    \"fn>=0\": \"red\",\n",
                "}\n",
                "\n",
                "helpfulness = \"helpfulness_True\"\n",
                "\n",
                "# We only need 2 panels now: suppression + pollution\n",
                "metrics_to_plot = [\"p_h_U\", \"p_u_H\"]\n",
                "n_rows = 1\n",
                "n_cols = len(metrics_to_plot)\n",
                "\n",
                "fig, axes = plt.subplots(\n",
                "    n_rows,\n",
                "    n_cols,\n",
                "    figsize=(6 * n_cols, 7 * n_rows),\n",
                "    constrained_layout=True,\n",
                "    sharex=True,\n",
                "    sharey=True,\n",
                ")\n",
                "\n",
                "\n",
                "# Control padding with constrained layout\n",
                "fig.set_constrained_layout_pads(\n",
                "    w_pad=0.1,\n",
                "    h_pad=0.1,\n",
                "    wspace=0.1,\n",
                "    hspace=0.1,\n",
                ")\n",
                "\n",
                "for col, metric in enumerate(metrics_to_plot):\n",
                "    ax = axes[col]\n",
                "\n",
                "    # Loop over fn conditions: <0 (blue) and >=0 (red)\n",
                "    for condition in conditions:  # assuming conditions = [\"fn_neg\", \"fn_pos\"]\n",
                "        key = f\"{helpfulness}_{condition}\"\n",
                "        if key not in data_summary:\n",
                "            print(f\"Key {key} not in data\")\n",
                "            continue\n",
                "        df_summary = data_summary[key]\n",
                "\n",
                "        x = df_summary[\"st_prop\"]\n",
                "        y_mean = df_summary[f\"{metric}_mean\"]\n",
                "        y_lower = df_summary[f\"{metric}_ci_lower\"]\n",
                "        y_upper = df_summary[f\"{metric}_ci_upper\"]\n",
                "        yerr = [y_mean - y_lower, y_upper - y_mean]\n",
                "\n",
                "        print(f\"{condition} - {metric} - mean: {y_mean.values[0]}\")\n",
                "        # Choose marker based on metric\n",
                "        marker = \"v\" if metric == \"p_h_U\" else \"o\"\n",
                "\n",
                "        ax.errorbar(\n",
                "            x,\n",
                "            y_mean,\n",
                "            yerr=yerr,\n",
                "            fmt=marker,\n",
                "            markersize=10,\n",
                "            capsize=5,\n",
                "            color=colors[condition],\n",
                "            label=f\"{condition_names[condition]}\",\n",
                "        )\n",
                "\n",
                "    ax.tick_params(direction=\"in\")\n",
                "    ax.set_xlabel(ax_labels[\"st_prop\"])\n",
                "\n",
                "    import matplotlib.ticker as mticker\n",
                "\n",
                "    ax.yaxis.set_major_formatter(mticker.FuncFormatter(format_integer_ticks))\n",
                "\n",
                "    ax.legend(fontsize=14)\n",
                "\n",
                "    ax.set_title(metric_names[metric], fontsize=20, pad=25)\n",
                "    ax.set_ylim(0, 1)\n",
                "plt.rcParams[\"ytick.right\"] = True\n",
                "plt.rcParams[\"xtick.top\"] = True\n",
                "# Current working directory (where notebook is running)\n",
                "cwd = os.getcwd()\n",
                "plot_dir = \"plots\"\n",
                "if not os.path.exists(plot_dir):\n",
                "    os.makedirs(plot_dir)\n",
                "# Save outputs\n",
                "plt.savefig(f\"{plot_dir}/{FIG_NAME}{helpfulness}.png\", dpi=300, bbox_inches=\"tight\")\n",
                "plt.savefig(f\"{plot_dir}/{FIG_NAME}{helpfulness}.pdf\", dpi=300, bbox_inches=\"tight\")\n",
                "\n",
                "plt.show()"
            ]
        },
        {
            "cell_type": "code",
            "execution_count": null,
            "metadata": {},
            "outputs": [],
            "source": []
        }
    ],
    "metadata": {
        "kernelspec": {
            "display_name": ".venv",
            "language": "python",
            "name": "python3"
        },
        "language_info": {
            "codemirror_mode": {
                "name": "ipython",
                "version": 3
            },
            "file_extension": ".py",
            "mimetype": "text/x-python",
            "name": "python",
            "nbconvert_exporter": "python",
            "pygments_lexer": "ipython3",
            "version": "3.11.4"
        }
    },
    "nbformat": 4,
    "nbformat_minor": 4
}
